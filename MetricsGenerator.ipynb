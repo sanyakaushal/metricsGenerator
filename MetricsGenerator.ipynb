{
 "cells": [
  {
   "cell_type": "code",
   "execution_count": 17,
   "id": "10e42509",
   "metadata": {
    "scrolled": true
   },
   "outputs": [
    {
     "data": {
      "text/html": [
       "<div>\n",
       "<style scoped>\n",
       "    .dataframe tbody tr th:only-of-type {\n",
       "        vertical-align: middle;\n",
       "    }\n",
       "\n",
       "    .dataframe tbody tr th {\n",
       "        vertical-align: top;\n",
       "    }\n",
       "\n",
       "    .dataframe thead th {\n",
       "        text-align: right;\n",
       "    }\n",
       "</style>\n",
       "<table border=\"1\" class=\"dataframe\">\n",
       "  <thead>\n",
       "    <tr style=\"text-align: right;\">\n",
       "      <th></th>\n",
       "      <th>Rule</th>\n",
       "      <th>Category</th>\n",
       "      <th>File</th>\n",
       "    </tr>\n",
       "  </thead>\n",
       "  <tbody>\n",
       "    <tr>\n",
       "      <th>0</th>\n",
       "      <td>testRule3 ./malicous/7648612366e6978b4037c2ead...</td>\n",
       "      <td>malicous</td>\n",
       "      <td>7648612366e6978b4037c2eadfe552714ec7790f8fdaa1...</td>\n",
       "    </tr>\n",
       "    <tr>\n",
       "      <th>1</th>\n",
       "      <td>testRule3 ./malicous/0b1c6998a9ec410fcb9b729ca...</td>\n",
       "      <td>malicous</td>\n",
       "      <td>0b1c6998a9ec410fcb9b729ca0e811672db0e6bbfcc578...</td>\n",
       "    </tr>\n",
       "    <tr>\n",
       "      <th>2</th>\n",
       "      <td>testRule3 ./malicous/11668696918a1745480fa2d14...</td>\n",
       "      <td>malicous</td>\n",
       "      <td>11668696918a1745480fa2d147064b39712995877417cb...</td>\n",
       "    </tr>\n",
       "    <tr>\n",
       "      <th>3</th>\n",
       "      <td>testRule3 ./malicous/389407258294aaa4f1e40c92f...</td>\n",
       "      <td>malicous</td>\n",
       "      <td>389407258294aaa4f1e40c92f24935786b3fa0b2b4b6d8...</td>\n",
       "    </tr>\n",
       "    <tr>\n",
       "      <th>4</th>\n",
       "      <td>testRule3 ./malicous/9088306873eda32a14e383458...</td>\n",
       "      <td>malicous</td>\n",
       "      <td>9088306873eda32a14e383458448828dba3e6fa0a65654...</td>\n",
       "    </tr>\n",
       "  </tbody>\n",
       "</table>\n",
       "</div>"
      ],
      "text/plain": [
       "                                                Rule  Category  \\\n",
       "0  testRule3 ./malicous/7648612366e6978b4037c2ead...  malicous   \n",
       "1  testRule3 ./malicous/0b1c6998a9ec410fcb9b729ca...  malicous   \n",
       "2  testRule3 ./malicous/11668696918a1745480fa2d14...  malicous   \n",
       "3  testRule3 ./malicous/389407258294aaa4f1e40c92f...  malicous   \n",
       "4  testRule3 ./malicous/9088306873eda32a14e383458...  malicous   \n",
       "\n",
       "                                                File  \n",
       "0  7648612366e6978b4037c2eadfe552714ec7790f8fdaa1...  \n",
       "1  0b1c6998a9ec410fcb9b729ca0e811672db0e6bbfcc578...  \n",
       "2  11668696918a1745480fa2d147064b39712995877417cb...  \n",
       "3  389407258294aaa4f1e40c92f24935786b3fa0b2b4b6d8...  \n",
       "4  9088306873eda32a14e383458448828dba3e6fa0a65654...  "
      ]
     },
     "execution_count": 17,
     "metadata": {},
     "output_type": "execute_result"
    }
   ],
   "source": [
    "import pandas as pd\n",
    "import os\n",
    "\n",
    "#read a csv file and assign it to dataframe object df\n",
    "df= pd.read_csv(\"/home/ubuntu/Desktop/output/output3.csv\", header=None, names=['Column'])\n",
    "\n",
    "\n",
    "#paths of benign and malcious files' folder that the yara rule was tested on\n",
    "malicous_folder = '/home/ubuntu/Downloads/malwareFolder/mixedSamples/malicous'\n",
    "benign_folder = '/home/ubuntu/Downloads/malwareFolder/mixedSamples/benign'\n",
    "\n",
    "#creating dataframe for the benign files\n",
    "benign_files = [f for f in os.listdir(benign_folder)]\n",
    "benign_df = pd.DataFrame({'File': benign_files, 'Category': 'benign'})\n",
    "\n",
    "#creating dataframe for the malcious files\n",
    "\n",
    "malicous_files = [f for f in os.listdir(malicous_folder)]\n",
    "malicous_df = pd.DataFrame({'File': malicous_files, 'Category': 'malicous'})\n",
    "\n",
    "#reading the YARA detected file list from the CSV\n",
    "detected_df = pd.read_csv(\"/home/ubuntu/Desktop/output/output3.csv\", header=None, names=['Rule'])\n",
    "detected_df['Category'] = detected_df['Rule'].str.split('/').str[1]\n",
    "detected_df['File'] = detected_df['Rule'].str.split('/').str[2]\n",
    "\n",
    "\n",
    "detected_df.head()\n"
   ]
  },
  {
   "cell_type": "code",
   "execution_count": 20,
   "id": "98147e4a",
   "metadata": {},
   "outputs": [
    {
     "data": {
      "text/html": [
       "<div>\n",
       "<style scoped>\n",
       "    .dataframe tbody tr th:only-of-type {\n",
       "        vertical-align: middle;\n",
       "    }\n",
       "\n",
       "    .dataframe tbody tr th {\n",
       "        vertical-align: top;\n",
       "    }\n",
       "\n",
       "    .dataframe thead th {\n",
       "        text-align: right;\n",
       "    }\n",
       "</style>\n",
       "<table border=\"1\" class=\"dataframe\">\n",
       "  <thead>\n",
       "    <tr style=\"text-align: right;\">\n",
       "      <th></th>\n",
       "      <th>File</th>\n",
       "      <th>Category</th>\n",
       "    </tr>\n",
       "  </thead>\n",
       "  <tbody>\n",
       "    <tr>\n",
       "      <th>0</th>\n",
       "      <td>0fe87602f6f2a6dd5acf209eea81ec0555fe1e02d6f781...</td>\n",
       "      <td>benign</td>\n",
       "    </tr>\n",
       "    <tr>\n",
       "      <th>1</th>\n",
       "      <td>0dfd9b9733913d7e1fc1ca19798b9ed57c2d4138ae5fa1...</td>\n",
       "      <td>benign</td>\n",
       "    </tr>\n",
       "    <tr>\n",
       "      <th>2</th>\n",
       "      <td>0c8af4bbf3e29c4ab7dd8372725a931985b669d15b8261...</td>\n",
       "      <td>benign</td>\n",
       "    </tr>\n",
       "    <tr>\n",
       "      <th>3</th>\n",
       "      <td>0fbe33fb688bc8b21db405ffc08f696f5eea215264952f...</td>\n",
       "      <td>benign</td>\n",
       "    </tr>\n",
       "    <tr>\n",
       "      <th>4</th>\n",
       "      <td>0d23b6f46e848a65911518e6658488070a7462cd605cfc...</td>\n",
       "      <td>benign</td>\n",
       "    </tr>\n",
       "  </tbody>\n",
       "</table>\n",
       "</div>"
      ],
      "text/plain": [
       "                                                File Category\n",
       "0  0fe87602f6f2a6dd5acf209eea81ec0555fe1e02d6f781...   benign\n",
       "1  0dfd9b9733913d7e1fc1ca19798b9ed57c2d4138ae5fa1...   benign\n",
       "2  0c8af4bbf3e29c4ab7dd8372725a931985b669d15b8261...   benign\n",
       "3  0fbe33fb688bc8b21db405ffc08f696f5eea215264952f...   benign\n",
       "4  0d23b6f46e848a65911518e6658488070a7462cd605cfc...   benign"
      ]
     },
     "execution_count": 20,
     "metadata": {},
     "output_type": "execute_result"
    }
   ],
   "source": [
    "benign_df.head()"
   ]
  },
  {
   "cell_type": "code",
   "execution_count": 19,
   "id": "d018f007",
   "metadata": {},
   "outputs": [
    {
     "data": {
      "text/plain": [
       "Category\n",
       "benign       1\n",
       "malicous    76\n",
       "dtype: int64"
      ]
     },
     "execution_count": 19,
     "metadata": {},
     "output_type": "execute_result"
    }
   ],
   "source": [
    "malwareGroups = detected_df.groupby(['Category'])\n",
    "#size of each group\n",
    "malwareGroups.size()"
   ]
  },
  {
   "cell_type": "code",
   "execution_count": 24,
   "id": "7ffdac63",
   "metadata": {},
   "outputs": [
    {
     "name": "stdout",
     "output_type": "stream",
     "text": [
      "30    0acf541f983ebcbc34a65128f894228237d3505ab231db...\n",
      "Name: File, dtype: object\n"
     ]
    }
   ],
   "source": [
    "#which malicous file was not detected \n",
    "uncommon_files = malicous_df[~malicous_df[\"File\"].isin(detected_df[\"File\"])][\"File\"]\n",
    "print(uncommon_files)"
   ]
  },
  {
   "cell_type": "code",
   "execution_count": 38,
   "id": "c8f986f6",
   "metadata": {},
   "outputs": [
    {
     "name": "stdout",
     "output_type": "stream",
     "text": [
      "Precison: 0.987012987012987\n",
      "Recall: 0.987012987012987\n",
      "F1_Score: 0.987012987012987\n",
      "Accuracy: 0.9809523809523809\n",
      "TPR: 0.987012987012987\n",
      "FPR: 0.03571428571428571\n"
     ]
    }
   ],
   "source": [
    "#calculating TP (True Positive)\n",
    "TP = sum(detected_df[\"File\"].isin(malicous_df[\"File\"]) & (detected_df['Category'] == 'malicous'))\n",
    "\n",
    "#calculating FP (False Positive)\n",
    "FP = sum(detected_df[\"File\"].isin(benign_df[\"File\"]) & (detected_df['Category'] == 'benign'))\n",
    "\n",
    "#calculating TN (True Negative) - everything in benign folder that wasn't detected by YARA\n",
    "TN = benign_df[~benign_df[\"File\"].isin(detected_df[\"File\"])].shape[0]\n",
    "\n",
    "#calculating FN (False Negative) - everything in malicous folder that wasn't detected by YARA\n",
    "FN = malicous_df[~malicous_df[\"File\"].isin(detected_df[\"File\"])].shape[0]\n",
    "\n",
    "\n",
    "#Calculating metrics\n",
    "Precision = TP / (TP + FP)\n",
    "Recall = TP / (TP + FN)\n",
    "F1_Score = 2 * (Precision * Recall) /(Precision + Recall)\n",
    "Accuracy = (TP + TN) / (TP + FP + TN + FN)\n",
    "TPR = TP / (TP + FN)\n",
    "FPR = FP / (FP + TN)\n",
    "\n",
    "\n",
    "print(\"Precison:\", Precision )\n",
    "print(\"Recall:\", Recall )\n",
    "print(\"F1_Score:\", F1_Score )\n",
    "print(\"Accuracy:\", Accuracy )\n",
    "print(\"TPR:\", TPR )\n",
    "print(\"FPR:\", FPR )\n",
    "\n"
   ]
  },
  {
   "cell_type": "code",
   "execution_count": null,
   "id": "58149ea6",
   "metadata": {},
   "outputs": [],
   "source": []
  }
 ],
 "metadata": {
  "kernelspec": {
   "display_name": "Python 3",
   "language": "python",
   "name": "python3"
  },
  "language_info": {
   "codemirror_mode": {
    "name": "ipython",
    "version": 3
   },
   "file_extension": ".py",
   "mimetype": "text/x-python",
   "name": "python",
   "nbconvert_exporter": "python",
   "pygments_lexer": "ipython3",
   "version": "3.6.9"
  }
 },
 "nbformat": 4,
 "nbformat_minor": 5
}
